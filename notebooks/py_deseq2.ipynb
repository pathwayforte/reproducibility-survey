{
 "cells": [
  {
   "cell_type": "markdown",
   "metadata": {},
   "source": [
    "# Analysis of TCGA RNASeq data using DESeq2\n",
    "This notebooks uses DESeq2 and R2Py to analyze the RNASeq data sets from TCGA."
   ]
  },
  {
   "cell_type": "code",
   "execution_count": 71,
   "metadata": {},
   "outputs": [],
   "source": [
    "import os\n",
    "import sys\n",
    "import pandas as pd # version 0.25\n",
    "import rpy2 # version 3.1.0\n",
    "from rpy2.robjects import pandas2ri, Formula, r\n",
    "import rpy2.robjects as ro\n",
    "from rpy2.robjects.packages import importr\n",
    "from rpy2.robjects.conversion import localconverter"
   ]
  },
  {
   "cell_type": "markdown",
   "metadata": {},
   "source": [
    "Note that it is required to install the \"DESeq2\" package in R. For that run:\n",
    "\n",
    "\n",
    "if (!requireNamespace(\"BiocManager\", quietly = TRUE))\n",
    "\n",
    "    install.packages(\"BiocManager\")\n",
    "    \n",
    "BiocManager::install(\"DESeq2\")"
   ]
  },
  {
   "cell_type": "code",
   "execution_count": 72,
   "metadata": {},
   "outputs": [],
   "source": [
    "pandas2ri.activate()\n",
    "from rpy2.robjects.packages import importr\n",
    "deseq = importr('DESeq2')"
   ]
  },
  {
   "cell_type": "code",
   "execution_count": 73,
   "metadata": {},
   "outputs": [
    {
     "data": {
      "text/plain": [
       "'3.1.0'"
      ]
     },
     "execution_count": 73,
     "metadata": {},
     "output_type": "execute_result"
    }
   ],
   "source": [
    "rpy2.__version__"
   ]
  },
  {
   "cell_type": "code",
   "execution_count": 74,
   "metadata": {},
   "outputs": [
    {
     "data": {
      "text/plain": [
       "'0.25.1'"
      ]
     },
     "execution_count": 74,
     "metadata": {},
     "output_type": "execute_result"
    }
   ],
   "source": [
    "pd.__version__"
   ]
  },
  {
   "cell_type": "markdown",
   "metadata": {},
   "source": [
    "Python class defined in https://gist.github.com/wckdouglas/3f8fb27a3d7a1eb24c598aa04f70fb25"
   ]
  },
  {
   "cell_type": "code",
   "execution_count": 75,
   "metadata": {},
   "outputs": [],
   "source": [
    "to_dataframe = r('function(x) data.frame(x)')\n",
    "\n",
    "class py_DESeq2:\n",
    "\n",
    "    def __init__(self, count_matrix, design_matrix, design_formula, gene_column='id'):\n",
    "        try:\n",
    "            assert gene_column in count_matrix.columns, 'Wrong gene id column name'\n",
    "            gene_id = count_matrix[gene_column]\n",
    "        except AttributeError:\n",
    "            sys.exit('Wrong Pandas dataframe?')\n",
    "\n",
    "        self.dds = None\n",
    "        self.deseq_result = None\n",
    "        self.resLFC = None\n",
    "        self.comparison = None\n",
    "        self.normalized_count_matrix = None\n",
    "                \n",
    "        # Remove rows which contain only 0 counts\n",
    "        count_matrix.set_index('ENSEMBL', inplace=True)\n",
    "        count_matrix = count_matrix.loc[(count_matrix!=0).any(axis=1)]\n",
    "        count_matrix.reset_index(inplace=True)\n",
    "        \n",
    "        self.gene_column = gene_column\n",
    "        self.gene_id = count_matrix[self.gene_column]\n",
    "        \n",
    "        count_matrix = count_matrix.drop(gene_column,axis=1)\n",
    "        \n",
    "        print(f'{count_matrix.shape[1]} | {design_matrix.shape[0]}')\n",
    "        \n",
    "        # Load dataframe into R environment\n",
    "        # Important: Change to r.data() if you use numpys and rpy2 latests versions\n",
    "        \n",
    "        # Convert pandas dataframe to r dataframe\n",
    "        with localconverter(ro.default_converter + pandas2ri.converter):\n",
    "              count_matrix = ro.conversion.py2rpy(count_matrix)\n",
    "        \n",
    "        # Assign columns to NULL\n",
    "        count_matrix.names = rpy2.rinterface.NULL\n",
    "        \n",
    "        self.count_matrix = count_matrix\n",
    "        \n",
    "        with localconverter(ro.default_converter + pandas2ri.converter):\n",
    "              self.design_matrix = ro.conversion.py2rpy(design_matrix)\n",
    "        \n",
    "        self.design_formula = Formula(design_formula)\n",
    "\n",
    "\n",
    "    def run_deseq(self, **kwargs):\n",
    "        self.dds = deseq.DESeqDataSetFromMatrix(\n",
    "            countData=self.count_matrix, \n",
    "            colData=self.design_matrix,\n",
    "            design=self.design_formula\n",
    "        )\n",
    "        self.dds = deseq.DESeq(self.dds, **kwargs)\n",
    "        # Previous script had \"deseq.counts\" instead\n",
    "        self.normalized_count_matrix = deseq.counts_DESeqDataSet(self.dds, normalized=True)\n",
    "\n",
    "    def get_deseq_result(self, **kwargs):\n",
    "\n",
    "        self.comparison = deseq.resultsNames(self.dds)\n",
    "\n",
    "        self.deseq_result = deseq.results(self.dds, **kwargs)\n",
    "        self.deseq_result = to_dataframe(self.deseq_result)\n",
    "        \n",
    "        # Convert r dataframe to pandas dataframe\n",
    "        with localconverter(ro.default_converter + pandas2ri.converter):\n",
    "              self.deseq_result = ro.conversion.rpy2py(self.deseq_result) ## back to pandas dataframe\n",
    "        self.deseq_result[self.gene_column] = self.gene_id.values\n",
    "        return self.deseq_result"
   ]
  },
  {
   "cell_type": "markdown",
   "metadata": {},
   "source": [
    "Get and preprocessing data"
   ]
  },
  {
   "cell_type": "code",
   "execution_count": 100,
   "metadata": {},
   "outputs": [],
   "source": [
    "# Point to the data & results folder\n",
    "dir_path = os.path.dirname(os.path.realpath('__file__'))\n",
    "SOURCE = os.path.join(os.path.abspath(os.path.join(dir_path, os.pardir)))\n",
    "DATA = os.path.join(SOURCE, 'data', '31316060', 'data', 'rnaseq')\n",
    "RESULTS = os.path.join(SOURCE, 'data', '31316060', 'results')\n",
    "\n",
    "counts_path = os.path.join(DATA,'H1299_shBRCA2_d4_counts_matrix.txt')\n",
    "labels_path = os.path.join(DATA,'H1299_shBRCA2_d4_design_matrix.txt')\n",
    "results_path = os.path.join(RESULTS,'H1299_shBRCA2_d4_deseq_results.csv')"
   ]
  },
  {
   "cell_type": "code",
   "execution_count": 101,
   "metadata": {},
   "outputs": [],
   "source": [
    "count_matrix = pd.read_csv(\n",
    "    counts_path, \n",
    "    sep = '\\t',\n",
    "    index_col=0\n",
    ")\n",
    "\n",
    "design_matrix = pd.read_csv(\n",
    "    labels_path,\n",
    "    sep = '\\t',\n",
    "    index_col=0\n",
    ")"
   ]
  },
  {
   "cell_type": "code",
   "execution_count": 102,
   "metadata": {},
   "outputs": [
    {
     "data": {
      "text/plain": [
       "(38933, 7)"
      ]
     },
     "execution_count": 102,
     "metadata": {},
     "output_type": "execute_result"
    }
   ],
   "source": [
    "count_matrix.shape"
   ]
  },
  {
   "cell_type": "code",
   "execution_count": 103,
   "metadata": {},
   "outputs": [
    {
     "data": {
      "text/html": [
       "<div>\n",
       "<style scoped>\n",
       "    .dataframe tbody tr th:only-of-type {\n",
       "        vertical-align: middle;\n",
       "    }\n",
       "\n",
       "    .dataframe tbody tr th {\n",
       "        vertical-align: top;\n",
       "    }\n",
       "\n",
       "    .dataframe thead th {\n",
       "        text-align: right;\n",
       "    }\n",
       "</style>\n",
       "<table border=\"1\" class=\"dataframe\">\n",
       "  <thead>\n",
       "    <tr style=\"text-align: right;\">\n",
       "      <th></th>\n",
       "      <th>ENSEMBL</th>\n",
       "      <th>TAR5801A86</th>\n",
       "      <th>TAR5801A54</th>\n",
       "      <th>TAR5801A70</th>\n",
       "      <th>TAR5801A85</th>\n",
       "      <th>TAR5801A69</th>\n",
       "      <th>TAR5801A53</th>\n",
       "    </tr>\n",
       "  </thead>\n",
       "  <tbody>\n",
       "    <tr>\n",
       "      <td>0</td>\n",
       "      <td>DDX11L2</td>\n",
       "      <td>3</td>\n",
       "      <td>2</td>\n",
       "      <td>2</td>\n",
       "      <td>2</td>\n",
       "      <td>2</td>\n",
       "      <td>4</td>\n",
       "    </tr>\n",
       "    <tr>\n",
       "      <td>1</td>\n",
       "      <td>WASH7P</td>\n",
       "      <td>185</td>\n",
       "      <td>193</td>\n",
       "      <td>242</td>\n",
       "      <td>253</td>\n",
       "      <td>204</td>\n",
       "      <td>209</td>\n",
       "    </tr>\n",
       "    <tr>\n",
       "      <td>2</td>\n",
       "      <td>LOC105376912</td>\n",
       "      <td>1</td>\n",
       "      <td>0</td>\n",
       "      <td>0</td>\n",
       "      <td>0</td>\n",
       "      <td>0</td>\n",
       "      <td>0</td>\n",
       "    </tr>\n",
       "    <tr>\n",
       "      <td>3</td>\n",
       "      <td>FAM138A</td>\n",
       "      <td>0</td>\n",
       "      <td>0</td>\n",
       "      <td>0</td>\n",
       "      <td>0</td>\n",
       "      <td>0</td>\n",
       "      <td>0</td>\n",
       "    </tr>\n",
       "    <tr>\n",
       "      <td>4</td>\n",
       "      <td>---</td>\n",
       "      <td>0</td>\n",
       "      <td>0</td>\n",
       "      <td>0</td>\n",
       "      <td>1</td>\n",
       "      <td>1</td>\n",
       "      <td>1</td>\n",
       "    </tr>\n",
       "  </tbody>\n",
       "</table>\n",
       "</div>"
      ],
      "text/plain": [
       "        ENSEMBL  TAR5801A86  TAR5801A54  TAR5801A70  TAR5801A85  TAR5801A69  \\\n",
       "0       DDX11L2           3           2           2           2           2   \n",
       "1        WASH7P         185         193         242         253         204   \n",
       "2  LOC105376912           1           0           0           0           0   \n",
       "3       FAM138A           0           0           0           0           0   \n",
       "4           ---           0           0           0           1           1   \n",
       "\n",
       "   TAR5801A53  \n",
       "0           4  \n",
       "1         209  \n",
       "2           0  \n",
       "3           0  \n",
       "4           1  "
      ]
     },
     "execution_count": 103,
     "metadata": {},
     "output_type": "execute_result"
    }
   ],
   "source": [
    "count_matrix.head()"
   ]
  },
  {
   "cell_type": "code",
   "execution_count": 104,
   "metadata": {},
   "outputs": [
    {
     "data": {
      "text/plain": [
       "(6, 6)"
      ]
     },
     "execution_count": 104,
     "metadata": {},
     "output_type": "execute_result"
    }
   ],
   "source": [
    "design_matrix.shape"
   ]
  },
  {
   "cell_type": "code",
   "execution_count": 105,
   "metadata": {},
   "outputs": [
    {
     "data": {
      "text/html": [
       "<div>\n",
       "<style scoped>\n",
       "    .dataframe tbody tr th:only-of-type {\n",
       "        vertical-align: middle;\n",
       "    }\n",
       "\n",
       "    .dataframe tbody tr th {\n",
       "        vertical-align: top;\n",
       "    }\n",
       "\n",
       "    .dataframe thead th {\n",
       "        text-align: right;\n",
       "    }\n",
       "</style>\n",
       "<table border=\"1\" class=\"dataframe\">\n",
       "  <thead>\n",
       "    <tr style=\"text-align: right;\">\n",
       "      <th></th>\n",
       "      <th>Name</th>\n",
       "      <th>Rep</th>\n",
       "      <th>CellLine</th>\n",
       "      <th>Genotype</th>\n",
       "      <th>DOX</th>\n",
       "      <th>days</th>\n",
       "    </tr>\n",
       "    <tr>\n",
       "      <th>Index</th>\n",
       "      <th></th>\n",
       "      <th></th>\n",
       "      <th></th>\n",
       "      <th></th>\n",
       "      <th></th>\n",
       "      <th></th>\n",
       "    </tr>\n",
       "  </thead>\n",
       "  <tbody>\n",
       "    <tr>\n",
       "      <td>TAR5801A86</td>\n",
       "      <td>H1299_shBRCA2_pos_d4_3</td>\n",
       "      <td>3</td>\n",
       "      <td>H1299</td>\n",
       "      <td>shBRCA2</td>\n",
       "      <td>pos</td>\n",
       "      <td>d4</td>\n",
       "    </tr>\n",
       "    <tr>\n",
       "      <td>TAR5801A54</td>\n",
       "      <td>H1299_shBRCA2_pos_d4_1</td>\n",
       "      <td>1</td>\n",
       "      <td>H1299</td>\n",
       "      <td>shBRCA2</td>\n",
       "      <td>pos</td>\n",
       "      <td>d4</td>\n",
       "    </tr>\n",
       "    <tr>\n",
       "      <td>TAR5801A70</td>\n",
       "      <td>H1299_shBRCA2_pos_d4_2</td>\n",
       "      <td>2</td>\n",
       "      <td>H1299</td>\n",
       "      <td>shBRCA2</td>\n",
       "      <td>pos</td>\n",
       "      <td>d4</td>\n",
       "    </tr>\n",
       "    <tr>\n",
       "      <td>TAR5801A85</td>\n",
       "      <td>H1299_shBRCA2_neg_d4_3</td>\n",
       "      <td>3</td>\n",
       "      <td>H1299</td>\n",
       "      <td>shBRCA2</td>\n",
       "      <td>neg</td>\n",
       "      <td>d4</td>\n",
       "    </tr>\n",
       "    <tr>\n",
       "      <td>TAR5801A69</td>\n",
       "      <td>H1299_shBRCA2_neg_d4_2</td>\n",
       "      <td>2</td>\n",
       "      <td>H1299</td>\n",
       "      <td>shBRCA2</td>\n",
       "      <td>neg</td>\n",
       "      <td>d4</td>\n",
       "    </tr>\n",
       "  </tbody>\n",
       "</table>\n",
       "</div>"
      ],
      "text/plain": [
       "                              Name  Rep CellLine Genotype  DOX days\n",
       "Index                                                              \n",
       "TAR5801A86  H1299_shBRCA2_pos_d4_3    3    H1299  shBRCA2  pos   d4\n",
       "TAR5801A54  H1299_shBRCA2_pos_d4_1    1    H1299  shBRCA2  pos   d4\n",
       "TAR5801A70  H1299_shBRCA2_pos_d4_2    2    H1299  shBRCA2  pos   d4\n",
       "TAR5801A85  H1299_shBRCA2_neg_d4_3    3    H1299  shBRCA2  neg   d4\n",
       "TAR5801A69  H1299_shBRCA2_neg_d4_2    2    H1299  shBRCA2  neg   d4"
      ]
     },
     "execution_count": 105,
     "metadata": {},
     "output_type": "execute_result"
    }
   ],
   "source": [
    "design_matrix.head()"
   ]
  },
  {
   "cell_type": "markdown",
   "metadata": {},
   "source": [
    "Create object"
   ]
  },
  {
   "cell_type": "code",
   "execution_count": 106,
   "metadata": {},
   "outputs": [
    {
     "name": "stdout",
     "output_type": "stream",
     "text": [
      "6 | 6\n"
     ]
    }
   ],
   "source": [
    "# dds = deseq.DESeqDataSetFromMatrix(countData=r_lihc_count_df, colData=r_lihc_label_df, design=design_formula)\n",
    "deseq2_exp = py_DESeq2(\n",
    "    count_matrix=count_matrix,\n",
    "    design_matrix=design_matrix,\n",
    "    design_formula='~ DOX',\n",
    "    gene_column='ENSEMBL'\n",
    ")"
   ]
  },
  {
   "cell_type": "code",
   "execution_count": 107,
   "metadata": {},
   "outputs": [
    {
     "name": "stderr",
     "output_type": "stream",
     "text": [
      "R[write to console]: estimating size factors\n",
      "\n",
      "R[write to console]: estimating dispersions\n",
      "\n",
      "R[write to console]: gene-wise dispersion estimates\n",
      "\n",
      "R[write to console]: mean-dispersion relationship\n",
      "\n",
      "R[write to console]: final dispersion estimates\n",
      "\n",
      "R[write to console]: fitting model and testing\n",
      "\n"
     ]
    }
   ],
   "source": [
    "deseq2_exp.run_deseq()"
   ]
  },
  {
   "cell_type": "code",
   "execution_count": 108,
   "metadata": {},
   "outputs": [],
   "source": [
    "results = deseq2_exp.get_deseq_result()"
   ]
  },
  {
   "cell_type": "code",
   "execution_count": 109,
   "metadata": {},
   "outputs": [
    {
     "data": {
      "text/plain": [
       "baseMean             1777.7\n",
       "log2FoldChange    -0.084021\n",
       "lfcSE             0.0869107\n",
       "stat              -0.966751\n",
       "pvalue             0.333669\n",
       "padj               0.583548\n",
       "ENSEMBL               SNHG3\n",
       "Name: 573, dtype: object"
      ]
     },
     "execution_count": 109,
     "metadata": {},
     "output_type": "execute_result"
    }
   ],
   "source": [
    "results.loc['573', :]"
   ]
  },
  {
   "cell_type": "code",
   "execution_count": 110,
   "metadata": {},
   "outputs": [],
   "source": [
    "results.to_csv(results_path)"
   ]
  },
  {
   "cell_type": "code",
   "execution_count": null,
   "metadata": {},
   "outputs": [],
   "source": []
  }
 ],
 "metadata": {
  "kernelspec": {
   "display_name": "Python 3",
   "language": "python",
   "name": "python3"
  },
  "language_info": {
   "codemirror_mode": {
    "name": "ipython",
    "version": 3
   },
   "file_extension": ".py",
   "mimetype": "text/x-python",
   "name": "python",
   "nbconvert_exporter": "python",
   "pygments_lexer": "ipython3",
   "version": "3.7.4"
  }
 },
 "nbformat": 4,
 "nbformat_minor": 2
}
